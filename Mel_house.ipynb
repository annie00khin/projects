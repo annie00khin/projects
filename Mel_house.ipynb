{
 "cells": [
  {
   "cell_type": "markdown",
   "id": "3b4b2181",
   "metadata": {},
   "source": [
    "## Overview"
   ]
  },
  {
   "cell_type": "markdown",
   "id": "c4437aaa",
   "metadata": {},
   "source": [
    "#### This project is to analyse the house pricing in melbourne and related features"
   ]
  },
  {
   "cell_type": "markdown",
   "id": "6d6283b9",
   "metadata": {},
   "source": [
    "#### The objective of this notebook is to analyze the data of melbourne housing prices and its related features, and to be able to conclude the relationships in well performed model. To summarize, the goals of this notebook are to be concluded as two use cases:\n",
    ">**_1. The model that explains the pricing by its related features_**\n",
    "\n",
    ">**_2. The melbourne housing markets trend between 2016-2017._**\n",
    "\n",
    "#### The goals are expected to meet common interests of certain stakeholders(Buyers&Sellers, Bank, Government, Agents and general public).\n",
    "#### This notebook will perform data preprocession before stepping into the features analyzing and model building. \n",
    "#### With cleaned dataset, to achieve the goals, this notebook will examine features which obviously related to the housing prices. According to the domain knowledge, it will primarily focus on the the features that has obvious relathionshp with property price. Various visualization will be used for better presentation of data throughout the notebook during examining the relationship between these features and pricing. \n",
    "#### Features that will be explore are listed as follows:\n",
    ">**_Price: The distribution of target feature_**\n",
    "\n",
    ">**_Type: The house types included in Dataset & the impact of it on Price_**\n",
    "\n",
    ">**_Location_**\n",
    ">>**_Region: The regions' distribution and its impact on Price_**\n",
    "\n",
    ">>**_Council: The co_**\n",
    "\n",
    ">>**_Suburb_**\n",
    "\n",
    ">>**_Distance: The distance of each case to city and the influence o_**\n",
    "\n",
    ">**_Other features_**\n",
    "\n",
    ">>**_Rooms: The room numbers and how the price spread with it_**\n",
    "\n",
    ">>**_Bathrooms_**\n",
    "\n",
    ">>**_Car_**\n",
    "\n",
    ">>**_Landsize_**\n",
    "\n",
    "\n",
    "#### This notebook is designed as sections of short and long answered questions, which helps to deduct the useful informations for the goals proposed above. \n"
   ]
  },
  {
   "cell_type": "code",
   "execution_count": null,
   "id": "5563ff47",
   "metadata": {
    "scrolled": true
   },
   "outputs": [],
   "source": [
    "## Import library to support the analysis\n",
    "import pandas as pd\n",
    "import numpy as np\n",
    "\n",
    "import seaborn as sns\n",
    "import matplotlib.pyplot as plt\n",
    "import plotly.express as px"
   ]
  },
  {
   "cell_type": "markdown",
   "id": "89633f41",
   "metadata": {},
   "source": [
    "## _Section 1: Data preprocession_"
   ]
  },
  {
   "cell_type": "markdown",
   "id": "e9674a82",
   "metadata": {},
   "source": [
    "#### Check the data(scan the head and tail)"
   ]
  },
  {
   "cell_type": "code",
   "execution_count": null,
   "id": "ad77ecc6",
   "metadata": {},
   "outputs": [],
   "source": [
    "## Read in file\n",
    "melb_house = pd.read_csv('file/melb_data.csv')\n",
    "melb_house.head()"
   ]
  },
  {
   "cell_type": "code",
   "execution_count": null,
   "id": "85e16673",
   "metadata": {
    "scrolled": false
   },
   "outputs": [],
   "source": [
    "melb_house.tail()"
   ]
  },
  {
   "cell_type": "markdown",
   "id": "d935c606",
   "metadata": {},
   "source": [
    "#### Check the datatype to understand the value in each column "
   ]
  },
  {
   "cell_type": "code",
   "execution_count": null,
   "id": "1dd39a12",
   "metadata": {
    "scrolled": true
   },
   "outputs": [],
   "source": [
    "## Check data info for each column\n",
    "melb_house.info()"
   ]
  },
  {
   "cell_type": "markdown",
   "id": "efe55708",
   "metadata": {},
   "source": [
    "#### Do we have missing values in the data, if so, where are these missing values locating at?"
   ]
  },
  {
   "cell_type": "code",
   "execution_count": null,
   "id": "bead1b86",
   "metadata": {},
   "outputs": [],
   "source": [
    "## Check missing values\n",
    "melb_house.isnull().sum()"
   ]
  },
  {
   "cell_type": "markdown",
   "id": "b7326ad4",
   "metadata": {},
   "source": [
    "##### Based on our domain knowledge, the missing value in building area and built year requires further reference to be able to fill them, which is out of scope in the data available here. \n",
    "\n",
    "##### The council area can be filled with cross matching the full column 'Suburb'. This column can still be taken into consideration of pricing analysis if there is no more missing values after filled. "
   ]
  },
  {
   "cell_type": "markdown",
   "id": "e5671ab1",
   "metadata": {},
   "source": [
    "#### Filling the missing values in CouncilArea"
   ]
  },
  {
   "cell_type": "code",
   "execution_count": null,
   "id": "eedfcb0f",
   "metadata": {
    "scrolled": true
   },
   "outputs": [],
   "source": [
    "pd.set_option('display.max_rows', 500)\n",
    "melb_house.loc[melb_house['CouncilArea'].isna()][['Suburb','CouncilArea']]"
   ]
  },
  {
   "cell_type": "code",
   "execution_count": null,
   "id": "23ccd1c7",
   "metadata": {
    "scrolled": true
   },
   "outputs": [],
   "source": [
    "melb_house_ref = melb_house.groupby(['Suburb', 'CouncilArea'])['Address'].count().reset_index(name='count')    \n",
    "## Check if there is 0 in the reference \n",
    "melb_house_ref['count'].unique()"
   ]
  },
  {
   "cell_type": "code",
   "execution_count": null,
   "id": "89d783ae",
   "metadata": {},
   "outputs": [],
   "source": [
    "melb_house_ref.info()"
   ]
  },
  {
   "cell_type": "code",
   "execution_count": null,
   "id": "fb692275",
   "metadata": {},
   "outputs": [],
   "source": [
    "## transfer the dataframe to dictionary\n",
    "dict_suburb = dict([(i, [x]) for i, x in zip(melb_house_ref['Suburb'], melb_house_ref['CouncilArea'])])"
   ]
  },
  {
   "cell_type": "code",
   "execution_count": null,
   "id": "7311f1a5",
   "metadata": {},
   "outputs": [],
   "source": [
    "## check the reference dictonary\n",
    "print(dict_suburb)"
   ]
  },
  {
   "cell_type": "code",
   "execution_count": null,
   "id": "36c1db28",
   "metadata": {},
   "outputs": [],
   "source": [
    "## check the column without string to fill later\n",
    "def isNaN(string):\n",
    "    return string != string"
   ]
  },
  {
   "cell_type": "code",
   "execution_count": null,
   "id": "f54fe04f",
   "metadata": {},
   "outputs": [],
   "source": [
    "## fill the empty cell with reference dictionary\n",
    "for r, row in enumerate(melb_house['CouncilArea'].values):\n",
    "    if isNaN(row) and melb_house['Suburb'][r] in dict_suburb:\n",
    "        melb_house['CouncilArea'][r] = dict_suburb[melb_house['Suburb'][r]]"
   ]
  },
  {
   "cell_type": "code",
   "execution_count": null,
   "id": "a5f0410c",
   "metadata": {},
   "outputs": [],
   "source": [
    "### check the columns after filling\n",
    "melb_house.loc[melb_house['CouncilArea'].isna()][['Suburb', 'CouncilArea']]"
   ]
  },
  {
   "cell_type": "markdown",
   "id": "6b0990d1",
   "metadata": {},
   "source": [
    "#### Is there still missing value in council area after filling?"
   ]
  },
  {
   "cell_type": "code",
   "execution_count": null,
   "id": "3b0b75d4",
   "metadata": {},
   "outputs": [],
   "source": [
    "melb_house['CouncilArea'].isnull().sum()"
   ]
  },
  {
   "cell_type": "markdown",
   "id": "a6032233",
   "metadata": {},
   "source": [
    "#### What are the values in column car?"
   ]
  },
  {
   "cell_type": "code",
   "execution_count": null,
   "id": "8b5b7a05",
   "metadata": {
    "scrolled": false
   },
   "outputs": [],
   "source": [
    "## Check the values in Column Car\n",
    "melb_house['Car'].unique()"
   ]
  },
  {
   "cell_type": "code",
   "execution_count": null,
   "id": "0589b7f7",
   "metadata": {},
   "outputs": [],
   "source": [
    "car = melb_house['Car'].reset_index()\n",
    "car.groupby('Car').agg('count')"
   ]
  },
  {
   "cell_type": "markdown",
   "id": "9afa04c9",
   "metadata": {},
   "source": [
    "#### what the house type of the property that have missing car values?"
   ]
  },
  {
   "cell_type": "code",
   "execution_count": null,
   "id": "e2304c3b",
   "metadata": {},
   "outputs": [],
   "source": [
    "## prepared dataframe\n",
    "car_na = melb_house[melb_house['Car'].isna()][['Type']].reset_index()"
   ]
  },
  {
   "cell_type": "code",
   "execution_count": null,
   "id": "cb6f58b4",
   "metadata": {
    "scrolled": true
   },
   "outputs": [],
   "source": [
    "car_na.groupby('Type').agg('count')"
   ]
  },
  {
   "cell_type": "code",
   "execution_count": null,
   "id": "7cbb0c18",
   "metadata": {},
   "outputs": [],
   "source": [
    "## apply pie chart to visualize the house type without value in car column. \n",
    "car_grouped = car_na.groupby('Type').size()\n",
    "car_grouped.plot(kind='pie', subplots = True, figsize=(8,8))\n",
    "plt.title('Pie chart of the house type without value in column Car')\n",
    "plt.ylabel('')\n",
    "plt.show()"
   ]
  },
  {
   "cell_type": "markdown",
   "id": "30c99d84",
   "metadata": {},
   "source": [
    "#### We can conclude that the missing values in car include property types of both unit and house. Based on the domain knowledge, the house has at least the street parking space, we can fill them as 1 car space. As for unit, no reference can be made without supporting data, we can use 0 to fill here as it is a very low portion in this data, also because the car space does not alter the pricing of unit much based on the domain knowledge. "
   ]
  },
  {
   "cell_type": "markdown",
   "id": "c1f72ab7",
   "metadata": {},
   "source": [
    "#### Filling the missing value in column 'Car'"
   ]
  },
  {
   "cell_type": "code",
   "execution_count": null,
   "id": "1d4f3aed",
   "metadata": {},
   "outputs": [],
   "source": [
    "melb_house.loc[(melb_house['Type'] == 'h') & (melb_house['Car'].isna()), 'Car']=1\n",
    "melb_house.loc[(melb_house['Type'] == 'u') & (melb_house['Car'].isna()), 'Car']=0"
   ]
  },
  {
   "cell_type": "code",
   "execution_count": null,
   "id": "77bca73a",
   "metadata": {},
   "outputs": [],
   "source": [
    "## check the cells in 'car' after filling \n",
    "melb_house['Car'].isna().sum()"
   ]
  },
  {
   "cell_type": "code",
   "execution_count": null,
   "id": "27564adb",
   "metadata": {},
   "outputs": [],
   "source": [
    "melb_house.isnull().sum()"
   ]
  },
  {
   "cell_type": "markdown",
   "id": "3b52df21",
   "metadata": {},
   "source": [
    "### Analysis"
   ]
  },
  {
   "cell_type": "markdown",
   "id": "892ee990",
   "metadata": {},
   "source": [
    "#### After basic information fill of the dataset. Now the column car is filled and only very small proportion of the council column is missing, which cannot be filled without further research on their councilArea. Fortunately, this dataset includes other features that is highly related to price based on domain knowledge, which can be analysed and involved in solving use cases. "
   ]
  },
  {
   "cell_type": "markdown",
   "id": "3c650231",
   "metadata": {},
   "source": [
    "#### Next section will continue on exploring the available features and their relationship with price."
   ]
  },
  {
   "cell_type": "markdown",
   "id": "151fb130",
   "metadata": {},
   "source": [
    "## _Section 2: Features analyzing_"
   ]
  },
  {
   "cell_type": "markdown",
   "id": "05e1c0c4",
   "metadata": {},
   "source": [
    "### Price"
   ]
  },
  {
   "cell_type": "markdown",
   "id": "1a89f74d",
   "metadata": {},
   "source": [
    "##### How is price distributed?"
   ]
  },
  {
   "cell_type": "code",
   "execution_count": null,
   "id": "5f3b8351",
   "metadata": {},
   "outputs": [],
   "source": [
    "melb_house['Price'].describe()"
   ]
  },
  {
   "cell_type": "code",
   "execution_count": null,
   "id": "859132eb",
   "metadata": {},
   "outputs": [],
   "source": [
    "sns.set_theme(style=\"whitegrid\")\n",
    "sns.displot(data=melb_house, x=\"Price\", kde=True)"
   ]
  },
  {
   "cell_type": "markdown",
   "id": "960f564d",
   "metadata": {},
   "source": [
    "##### It is right-skewed due to a few extremely high price properties."
   ]
  },
  {
   "cell_type": "code",
   "execution_count": null,
   "id": "94b8cb89",
   "metadata": {},
   "outputs": [],
   "source": [
    "##subsetting the dataset to avoid the impact of outliers(extremely high price)\n",
    "melb_before4m = melb_house[melb_house['Price']<=4000000].reset_index()\n",
    "melb_after4m = melb_house[melb_house['Price']>4000000].reset_index()\n",
    "melb_before3m = melb_house[melb_house['Price']<=3000000].reset_index()\n",
    "melb_after3m = melb_house[melb_house['Price']>3000000].reset_index()"
   ]
  },
  {
   "cell_type": "code",
   "execution_count": null,
   "id": "6b7c83dc",
   "metadata": {
    "scrolled": true
   },
   "outputs": [],
   "source": [
    "## check the graph after 4m.\n",
    "sns.displot(data=melb_after4m, x=\"Price\", kde=True)"
   ]
  },
  {
   "cell_type": "code",
   "execution_count": null,
   "id": "ab6a855b",
   "metadata": {},
   "outputs": [],
   "source": [
    "## check the price distribution before 4m\n",
    "sns.displot(data=melb_before4m, x=\"Price\", kde=True)\n"
   ]
  },
  {
   "cell_type": "markdown",
   "id": "f77f7fd8",
   "metadata": {},
   "source": [
    "##### The distribution of price still slightly right-skewed. Try 3m."
   ]
  },
  {
   "cell_type": "code",
   "execution_count": null,
   "id": "5fe0efbb",
   "metadata": {},
   "outputs": [],
   "source": [
    "## check the price distribution within 3m\n",
    "sns.displot(data=melb_before3m, x=\"Price\", kde=True)"
   ]
  },
  {
   "cell_type": "code",
   "execution_count": null,
   "id": "651f1153",
   "metadata": {},
   "outputs": [],
   "source": [
    "## check the price distribution after 3m\n",
    "sns.displot(data=melb_after3m, x=\"Price\", kde=True)\n",
    "melb_after3m.info()"
   ]
  },
  {
   "cell_type": "markdown",
   "id": "277692c9",
   "metadata": {},
   "source": [
    "##### The distribution looks bell shape alike now. This notebook will continue discuss other features and their realtionship with price based on the subsets above."
   ]
  },
  {
   "cell_type": "markdown",
   "id": "8b60186f",
   "metadata": {},
   "source": [
    "### House Type"
   ]
  },
  {
   "cell_type": "markdown",
   "id": "5836065f",
   "metadata": {},
   "source": [
    "##### How many types there are and how are they distributed?"
   ]
  },
  {
   "cell_type": "code",
   "execution_count": null,
   "id": "10e0a76c",
   "metadata": {},
   "outputs": [],
   "source": [
    "melb_house.groupby(['Type'])['Type'].count().reset_index(name='count') "
   ]
  },
  {
   "cell_type": "code",
   "execution_count": null,
   "id": "b7af3e07",
   "metadata": {},
   "outputs": [],
   "source": [
    "##visualize the distribution\n",
    "sns.countplot(x=melb_house['Type'])"
   ]
  },
  {
   "cell_type": "code",
   "execution_count": null,
   "id": "15ad0bf1",
   "metadata": {
    "scrolled": true
   },
   "outputs": [],
   "source": [
    "melb_house.groupby('Type')['Price'].describe()"
   ]
  },
  {
   "cell_type": "code",
   "execution_count": null,
   "id": "9a35b09c",
   "metadata": {},
   "outputs": [],
   "source": [
    "sns.violinplot(data=melb_house, x=\"Type\", y=\"Price\",\n",
    "               split=False, inner=\"quart\", linewidth=1)"
   ]
  },
  {
   "cell_type": "code",
   "execution_count": null,
   "id": "d3b014bf",
   "metadata": {},
   "outputs": [],
   "source": [
    "melb_before3m.groupby('Type')['Price'].describe()"
   ]
  },
  {
   "cell_type": "code",
   "execution_count": null,
   "id": "f2d8d729",
   "metadata": {
    "scrolled": true
   },
   "outputs": [],
   "source": [
    "sns.violinplot(data=melb_before3m, x=\"Type\", y=\"Price\",\n",
    "               split=False, inner=\"quart\", linewidth=1)"
   ]
  },
  {
   "cell_type": "markdown",
   "id": "dad2f20f",
   "metadata": {},
   "source": [
    "##### We can see from the graphs and tables above that there are obvious difference on price with different type of house. It is much more clear with the subset within 3m of the price. "
   ]
  },
  {
   "cell_type": "markdown",
   "id": "d2089bb5",
   "metadata": {},
   "source": [
    "### Regionname"
   ]
  },
  {
   "cell_type": "markdown",
   "id": "3d34f405",
   "metadata": {},
   "source": [
    "#### How does price distributed within different regions?"
   ]
  },
  {
   "cell_type": "code",
   "execution_count": null,
   "id": "64699421",
   "metadata": {},
   "outputs": [],
   "source": [
    "melb_house['Regionname'].unique()"
   ]
  },
  {
   "cell_type": "code",
   "execution_count": null,
   "id": "99493552",
   "metadata": {},
   "outputs": [],
   "source": [
    "### check the property sold based on regions\n",
    "melb_before3m.groupby('Regionname')['Price'].describe()"
   ]
  },
  {
   "cell_type": "code",
   "execution_count": null,
   "id": "54df9b64",
   "metadata": {
    "scrolled": true
   },
   "outputs": [],
   "source": [
    "## visualize the price interval of different regions \n",
    "plt.figure(figsize = (10,10))\n",
    "sns.catplot(data=melb_before3m, x=\"Price\", y=\"Regionname\", kind=\"box\", palette=\"ch:.25\")\n"
   ]
  },
  {
   "cell_type": "markdown",
   "id": "a1a48a80",
   "metadata": {},
   "source": [
    "##### As we can see from both graph and table, within different regions, price varies a lot as well as their mean, max and min values. Hence region has important impact on the price."
   ]
  },
  {
   "cell_type": "code",
   "execution_count": null,
   "id": "e4e5a2fc",
   "metadata": {
    "scrolled": true
   },
   "outputs": [],
   "source": [
    "## combine the type with region on price\n",
    "sns.boxplot(x=\"Price\", y=\"Regionname\",\n",
    "            hue=\"Type\", palette=[\"m\", \"g\", \"r\"],\n",
    "            data=melb_before3m)"
   ]
  },
  {
   "cell_type": "markdown",
   "id": "a057fdb1",
   "metadata": {},
   "source": [
    "##### From the graph above, we can see the house type affect the price within different regions. Regions like northern victoria and western victoria only have type house here, and eastern victoria doesnot have townhouse. Their price and average of price vary significantly within same region or inter-regions. Hence region has huge impact on price."
   ]
  },
  {
   "cell_type": "markdown",
   "id": "9f7aeebb",
   "metadata": {},
   "source": [
    "### Council"
   ]
  },
  {
   "cell_type": "markdown",
   "id": "88fa2eef",
   "metadata": {},
   "source": [
    "##### How is Council Area distributed?"
   ]
  },
  {
   "cell_type": "code",
   "execution_count": null,
   "id": "f73e18f1",
   "metadata": {
    "scrolled": false
   },
   "outputs": [],
   "source": [
    "## check the council area column\n",
    "melb_before3m['CouncilArea'].describe()"
   ]
  },
  {
   "cell_type": "code",
   "execution_count": null,
   "id": "6f8b168c",
   "metadata": {
    "scrolled": true
   },
   "outputs": [],
   "source": [
    "## check if there is missing value \n",
    "melb_before3m['CouncilArea'].isna().sum()"
   ]
  },
  {
   "cell_type": "code",
   "execution_count": null,
   "id": "b6f1e292",
   "metadata": {},
   "outputs": [],
   "source": [
    "## fill the missing value\n",
    "melb_before3m['CouncilArea'].fillna('unknown', inplace=True)"
   ]
  },
  {
   "cell_type": "code",
   "execution_count": null,
   "id": "85f07250",
   "metadata": {},
   "outputs": [],
   "source": [
    "## check missing value after filling\n",
    "melb_before3m['CouncilArea'].isna().sum()"
   ]
  },
  {
   "cell_type": "markdown",
   "id": "67db4e55",
   "metadata": {},
   "source": [
    "##### How does council area spread on various regions?"
   ]
  },
  {
   "cell_type": "code",
   "execution_count": null,
   "id": "d056e451",
   "metadata": {},
   "outputs": [],
   "source": [
    "melb_council_before3m = melb_before3m.groupby(['CouncilArea', 'Regionname'])['Address'].count().reset_index(name='count')\n",
    "\n"
   ]
  },
  {
   "cell_type": "code",
   "execution_count": null,
   "id": "5ae6c306",
   "metadata": {},
   "outputs": [],
   "source": [
    "melb_before3m.groupby('CouncilArea').describe()"
   ]
  },
  {
   "cell_type": "markdown",
   "id": "e5b4c71a",
   "metadata": {},
   "source": [
    "### Suburb"
   ]
  },
  {
   "cell_type": "markdown",
   "id": "9021562c",
   "metadata": {},
   "source": [
    "#### How is suburb distributed and how it impact on price?"
   ]
  },
  {
   "cell_type": "code",
   "execution_count": null,
   "id": "f323d99f",
   "metadata": {
    "scrolled": true
   },
   "outputs": [],
   "source": [
    "### prepre dataframe for visualisation\n",
    "suburb_before3m= melb_before3m.groupby(['Suburb'])['Address'].count().reset_index(name='count')\n",
    "\n",
    "suburb_before3m"
   ]
  },
  {
   "cell_type": "markdown",
   "id": "b1d2d15d",
   "metadata": {},
   "source": [
    "##### since there are too many suburbs, we set threshold at 50 when visualizing."
   ]
  },
  {
   "cell_type": "code",
   "execution_count": null,
   "id": "ec7512f9",
   "metadata": {
    "scrolled": false
   },
   "outputs": [],
   "source": [
    "## visualize property sold based on different suburb\n",
    "suburb_treemap = suburb_before3m[suburb_before3m['count']>50]\n",
    "fig = px.treemap(suburb_treemap, path=['Suburb'], values='count') \n",
    "fig.show()"
   ]
  },
  {
   "cell_type": "markdown",
   "id": "5e9c1f34",
   "metadata": {},
   "source": [
    "##### What are the top prices in different suburbs?"
   ]
  },
  {
   "cell_type": "code",
   "execution_count": null,
   "id": "cc1d50da",
   "metadata": {},
   "outputs": [],
   "source": [
    "df = melb_before3m.groupby('Suburb')['Price'].agg('max')\n",
    "df"
   ]
  },
  {
   "cell_type": "code",
   "execution_count": null,
   "id": "a28ab094",
   "metadata": {},
   "outputs": [],
   "source": []
  },
  {
   "cell_type": "markdown",
   "id": "02a9bef9",
   "metadata": {},
   "source": [
    "### Distance"
   ]
  },
  {
   "cell_type": "markdown",
   "id": "b2a59943",
   "metadata": {},
   "source": [
    "##### How is distance distributed along price?\n"
   ]
  },
  {
   "cell_type": "code",
   "execution_count": null,
   "id": "4e4fdd63",
   "metadata": {
    "scrolled": true
   },
   "outputs": [],
   "source": [
    "melb_house['Distance'].describe()"
   ]
  },
  {
   "cell_type": "code",
   "execution_count": null,
   "id": "cbbdebaf",
   "metadata": {},
   "outputs": [],
   "source": [
    "melb_before3m['Distance'].describe()"
   ]
  },
  {
   "cell_type": "code",
   "execution_count": null,
   "id": "097f19af",
   "metadata": {
    "scrolled": true
   },
   "outputs": [],
   "source": [
    "sns.scatterplot(x=\"Distance\", y=\"Price\", hue='Regionname', data=melb_before3m)\n"
   ]
  },
  {
   "cell_type": "code",
   "execution_count": null,
   "id": "c630fa21",
   "metadata": {},
   "outputs": [],
   "source": [
    "sns.lmplot(x=\"Distance\", y=\"Price\", data=melb_before3m)"
   ]
  },
  {
   "cell_type": "markdown",
   "id": "7433f2f8",
   "metadata": {},
   "source": [
    "##### The price is heavily concentrated on 0-20m in distance. It also varies a lot at the same distance, which is partialy contributed by different regions. Hence we conclude that distance alone does not make a useful predictor on price."
   ]
  },
  {
   "cell_type": "markdown",
   "id": "7e9157e4",
   "metadata": {},
   "source": [
    "### Rooms"
   ]
  },
  {
   "cell_type": "markdown",
   "id": "dc417a2d",
   "metadata": {},
   "source": [
    "##### How is price spread along the room numbers?"
   ]
  },
  {
   "cell_type": "code",
   "execution_count": null,
   "id": "ca737cbe",
   "metadata": {},
   "outputs": [],
   "source": [
    "melb_before3m['Rooms'].unique()"
   ]
  },
  {
   "cell_type": "code",
   "execution_count": null,
   "id": "69fbb7e6",
   "metadata": {
    "scrolled": true
   },
   "outputs": [],
   "source": [
    "melb_before3m.groupby('Rooms')['Price'].describe()"
   ]
  },
  {
   "cell_type": "markdown",
   "id": "4e5f02cf",
   "metadata": {},
   "source": [
    "##### Significantly small number of property after room number is greater than 6."
   ]
  },
  {
   "cell_type": "code",
   "execution_count": null,
   "id": "25e69b1b",
   "metadata": {
    "scrolled": false
   },
   "outputs": [],
   "source": [
    "\n",
    "sns.stripplot(y=\"Price\", x=\"Rooms\", hue = \"Type\", palette=\"deep\", data=melb_before3m)\n"
   ]
  },
  {
   "cell_type": "code",
   "execution_count": null,
   "id": "22f554e4",
   "metadata": {},
   "outputs": [],
   "source": [
    "sns.lmplot(x=\"Rooms\", y=\"Price\", hue = \"Regionname\", data=melb_before3m)"
   ]
  },
  {
   "cell_type": "markdown",
   "id": "55012763",
   "metadata": {},
   "source": [
    "##### The patterns on both with type and regionname is generally fanning. Price is overall increasing along the room numbers. Moreover, each color shows different patterns. The analysis will carry on with subsets of different types of property."
   ]
  },
  {
   "cell_type": "code",
   "execution_count": null,
   "id": "fe05a172",
   "metadata": {},
   "outputs": [],
   "source": [
    "## subsetting dataset of prices within 3m\n",
    "melb_house_3m = melb_before3m[melb_before3m['Type']=='h'].reset_index()\n",
    "melb_unit_3m = melb_before3m[melb_before3m['Type']=='u'].reset_index()\n",
    "melb_townhouse_3m = melb_before3m[melb_before3m['Type']=='t'].reset_index()"
   ]
  },
  {
   "cell_type": "code",
   "execution_count": null,
   "id": "902a3f99",
   "metadata": {},
   "outputs": [],
   "source": [
    "## In type house set. \n",
    "sns.lmplot(x=\"Rooms\", y=\"Price\", data=melb_house_3m)\n"
   ]
  },
  {
   "cell_type": "code",
   "execution_count": null,
   "id": "cc546858",
   "metadata": {},
   "outputs": [],
   "source": [
    "sns.lmplot(x=\"Rooms\", y=\"Price\", data=melb_townhouse_3m)"
   ]
  },
  {
   "cell_type": "markdown",
   "id": "bad0f5f7",
   "metadata": {},
   "source": [
    "### Bathrooms"
   ]
  },
  {
   "cell_type": "markdown",
   "id": "593fd2ef",
   "metadata": {},
   "source": [
    "### Car"
   ]
  },
  {
   "cell_type": "code",
   "execution_count": null,
   "id": "33a54742",
   "metadata": {},
   "outputs": [],
   "source": [
    "melb_house['Rooms'].unique()"
   ]
  },
  {
   "cell_type": "code",
   "execution_count": null,
   "id": "6f966782",
   "metadata": {},
   "outputs": [],
   "source": [
    "melb_house['Bedroom2'].unique()"
   ]
  },
  {
   "cell_type": "code",
   "execution_count": null,
   "id": "75bd4b66",
   "metadata": {},
   "outputs": [],
   "source": [
    "melb_house.groupby('Bedroom2')['Price'].describe()"
   ]
  },
  {
   "cell_type": "code",
   "execution_count": null,
   "id": "1986e864",
   "metadata": {
    "scrolled": false
   },
   "outputs": [],
   "source": [
    "melb_house.groupby('Rooms')['Price'].describe()"
   ]
  },
  {
   "cell_type": "markdown",
   "id": "1d49e26a",
   "metadata": {},
   "source": [
    "### Landsize"
   ]
  },
  {
   "cell_type": "code",
   "execution_count": null,
   "id": "fb46f711",
   "metadata": {},
   "outputs": [],
   "source": [
    "melb_house['Bathroom'].unique()"
   ]
  },
  {
   "cell_type": "code",
   "execution_count": null,
   "id": "3aad8654",
   "metadata": {},
   "outputs": [],
   "source": [
    "melb_house.groupby('Bathroom')['Price'].describe()"
   ]
  },
  {
   "cell_type": "markdown",
   "id": "ebab32af",
   "metadata": {},
   "source": []
  },
  {
   "cell_type": "markdown",
   "id": "35a8b787",
   "metadata": {},
   "source": [
    "### Method"
   ]
  },
  {
   "cell_type": "code",
   "execution_count": null,
   "id": "51f9dae8",
   "metadata": {},
   "outputs": [],
   "source": [
    "sns.set_theme(style=\"darkgrid\")\n",
    "sns.countplot(x=melb_house['Method'])"
   ]
  },
  {
   "cell_type": "markdown",
   "id": "9d68c1f9",
   "metadata": {},
   "source": [
    "## _Section 3: Use Case 1- Features affecting Price_"
   ]
  },
  {
   "cell_type": "markdown",
   "id": "641cde37",
   "metadata": {},
   "source": [
    "## _Section 4: Use Case 2- Housing Market Trend(16-17)_"
   ]
  }
 ],
 "metadata": {
  "kernelspec": {
   "display_name": "Python 3 (ipykernel)",
   "language": "python",
   "name": "python3"
  },
  "language_info": {
   "codemirror_mode": {
    "name": "ipython",
    "version": 3
   },
   "file_extension": ".py",
   "mimetype": "text/x-python",
   "name": "python",
   "nbconvert_exporter": "python",
   "pygments_lexer": "ipython3",
   "version": "3.9.12"
  }
 },
 "nbformat": 4,
 "nbformat_minor": 5
}
