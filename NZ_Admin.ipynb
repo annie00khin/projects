{
 "cells": [
  {
   "cell_type": "markdown",
   "id": "e928ab6f",
   "metadata": {},
   "source": [
    "The file includes the information about admin jobs in demand in New Zealand market that was posted on SEEK. By analysing the data after cleaning, the following questions are expected to be answered. \n",
    "1. Which area has most admin jobs wanted?\n",
    "2. The average and longest time of the job posted on market. \n",
    "3. The average hour rate/ salary of the admin job in NZ. "
   ]
  },
  {
   "cell_type": "code",
   "execution_count": 3,
   "id": "3f88b914",
   "metadata": {},
   "outputs": [],
   "source": [
    "import pandas as pd"
   ]
  },
  {
   "cell_type": "code",
   "execution_count": 4,
   "id": "894a688a",
   "metadata": {},
   "outputs": [
    {
     "data": {
      "text/html": [
       "<div>\n",
       "<style scoped>\n",
       "    .dataframe tbody tr th:only-of-type {\n",
       "        vertical-align: middle;\n",
       "    }\n",
       "\n",
       "    .dataframe tbody tr th {\n",
       "        vertical-align: top;\n",
       "    }\n",
       "\n",
       "    .dataframe thead th {\n",
       "        text-align: right;\n",
       "    }\n",
       "</style>\n",
       "<table border=\"1\" class=\"dataframe\">\n",
       "  <thead>\n",
       "    <tr style=\"text-align: right;\">\n",
       "      <th></th>\n",
       "      <th>字段1</th>\n",
       "      <th>字段1_link</th>\n",
       "      <th>字段2</th>\n",
       "      <th>字段3</th>\n",
       "      <th>字段4</th>\n",
       "      <th>字段5</th>\n",
       "    </tr>\n",
       "  </thead>\n",
       "  <tbody>\n",
       "    <tr>\n",
       "      <th>0</th>\n",
       "      <td>Administrator</td>\n",
       "      <td>https://www.seek.co.nz/job/50582301?type=promo...</td>\n",
       "      <td>NaN</td>\n",
       "      <td>location: Bay of PlentyBay of Plentyarea: Taur...</td>\n",
       "      <td>Featured,at,Private Advertiser</td>\n",
       "      <td>classification: Administration &amp; Office Suppor...</td>\n",
       "    </tr>\n",
       "    <tr>\n",
       "      <th>1</th>\n",
       "      <td>Receptionist</td>\n",
       "      <td>https://www.seek.co.nz/job/50620889?type=promo...</td>\n",
       "      <td>Avenues Orthodontics</td>\n",
       "      <td>location: Bay of PlentyBay of Plentyarea: Taur...</td>\n",
       "      <td>Featured,at</td>\n",
       "      <td>classification: Administration &amp; Office Suppor...</td>\n",
       "    </tr>\n",
       "    <tr>\n",
       "      <th>2</th>\n",
       "      <td>Prosecutions Support Officer</td>\n",
       "      <td>https://www.seek.co.nz/job/50622169?type=stand...</td>\n",
       "      <td>New Zealand Police</td>\n",
       "      <td>location: AucklandAuckland</td>\n",
       "      <td>4d ago,at</td>\n",
       "      <td>classification: Administration &amp; Office Suppor...</td>\n",
       "    </tr>\n",
       "    <tr>\n",
       "      <th>3</th>\n",
       "      <td>Early Childhood Centre Administrator</td>\n",
       "      <td>https://www.seek.co.nz/job/50639620?type=stand...</td>\n",
       "      <td>Kew Pacific Island Early Learning Centre</td>\n",
       "      <td>location: SouthlandSouthlandarea: Invercargill...</td>\n",
       "      <td>1h ago,at</td>\n",
       "      <td>classification: Administration &amp; Office Suppor...</td>\n",
       "    </tr>\n",
       "    <tr>\n",
       "      <th>4</th>\n",
       "      <td>Business Support Administrator</td>\n",
       "      <td>https://www.seek.co.nz/job/50622432?type=stand...</td>\n",
       "      <td>NaN</td>\n",
       "      <td>location: CanterburyCanterburyarea: Christchur...</td>\n",
       "      <td>4d ago,at,Private Advertiser</td>\n",
       "      <td>classification: Administration &amp; Office Suppor...</td>\n",
       "    </tr>\n",
       "    <tr>\n",
       "      <th>5</th>\n",
       "      <td>Support Officer</td>\n",
       "      <td>https://www.seek.co.nz/job/50640393?type=stand...</td>\n",
       "      <td>Ministry for Primary Industries</td>\n",
       "      <td>location: NorthlandNorthlandarea: WhangareiWha...</td>\n",
       "      <td>9m ago,at</td>\n",
       "      <td>classification: Administration &amp; Office Suppor...</td>\n",
       "    </tr>\n",
       "    <tr>\n",
       "      <th>6</th>\n",
       "      <td>Support Officer</td>\n",
       "      <td>https://www.seek.co.nz/job/50615674?type=stand...</td>\n",
       "      <td>Ministry of Business, Innovation and Employment</td>\n",
       "      <td>location: WellingtonWellingtonarea: Wellington...</td>\n",
       "      <td>5d ago,at</td>\n",
       "      <td>classification: Administration &amp; Office Suppor...</td>\n",
       "    </tr>\n",
       "    <tr>\n",
       "      <th>7</th>\n",
       "      <td>office administrator</td>\n",
       "      <td>https://www.seek.co.nz/job/50640166?type=stand...</td>\n",
       "      <td>Hepburn Electrical Ltd</td>\n",
       "      <td>location: Bay of PlentyBay of Plentyarea: Roto...</td>\n",
       "      <td>7m ago,at</td>\n",
       "      <td>classification: Administration &amp; Office Suppor...</td>\n",
       "    </tr>\n",
       "    <tr>\n",
       "      <th>8</th>\n",
       "      <td>Office Administrator</td>\n",
       "      <td>https://www.seek.co.nz/job/50639248?type=stand...</td>\n",
       "      <td>Webster Holland Ltd</td>\n",
       "      <td>location: Bay of PlentyBay of Plentyarea: Taur...</td>\n",
       "      <td>2h ago,at</td>\n",
       "      <td>classification: Administration &amp; Office Suppor...</td>\n",
       "    </tr>\n",
       "    <tr>\n",
       "      <th>9</th>\n",
       "      <td>Administration Officer</td>\n",
       "      <td>https://www.seek.co.nz/job/50629393?type=stand...</td>\n",
       "      <td>New Zealand Police</td>\n",
       "      <td>location: CanterburyCanterbury</td>\n",
       "      <td>3d ago,at</td>\n",
       "      <td>classification: Administration &amp; Office Suppor...</td>\n",
       "    </tr>\n",
       "  </tbody>\n",
       "</table>\n",
       "</div>"
      ],
      "text/plain": [
       "                                    字段1  \\\n",
       "0                         Administrator   \n",
       "1                          Receptionist   \n",
       "2          Prosecutions Support Officer   \n",
       "3  Early Childhood Centre Administrator   \n",
       "4        Business Support Administrator   \n",
       "5                       Support Officer   \n",
       "6                       Support Officer   \n",
       "7                  office administrator   \n",
       "8                  Office Administrator   \n",
       "9                Administration Officer   \n",
       "\n",
       "                                            字段1_link  \\\n",
       "0  https://www.seek.co.nz/job/50582301?type=promo...   \n",
       "1  https://www.seek.co.nz/job/50620889?type=promo...   \n",
       "2  https://www.seek.co.nz/job/50622169?type=stand...   \n",
       "3  https://www.seek.co.nz/job/50639620?type=stand...   \n",
       "4  https://www.seek.co.nz/job/50622432?type=stand...   \n",
       "5  https://www.seek.co.nz/job/50640393?type=stand...   \n",
       "6  https://www.seek.co.nz/job/50615674?type=stand...   \n",
       "7  https://www.seek.co.nz/job/50640166?type=stand...   \n",
       "8  https://www.seek.co.nz/job/50639248?type=stand...   \n",
       "9  https://www.seek.co.nz/job/50629393?type=stand...   \n",
       "\n",
       "                                               字段2  \\\n",
       "0                                              NaN   \n",
       "1                             Avenues Orthodontics   \n",
       "2                               New Zealand Police   \n",
       "3         Kew Pacific Island Early Learning Centre   \n",
       "4                                              NaN   \n",
       "5                  Ministry for Primary Industries   \n",
       "6  Ministry of Business, Innovation and Employment   \n",
       "7                           Hepburn Electrical Ltd   \n",
       "8                              Webster Holland Ltd   \n",
       "9                               New Zealand Police   \n",
       "\n",
       "                                                 字段3  \\\n",
       "0  location: Bay of PlentyBay of Plentyarea: Taur...   \n",
       "1  location: Bay of PlentyBay of Plentyarea: Taur...   \n",
       "2                         location: AucklandAuckland   \n",
       "3  location: SouthlandSouthlandarea: Invercargill...   \n",
       "4  location: CanterburyCanterburyarea: Christchur...   \n",
       "5  location: NorthlandNorthlandarea: WhangareiWha...   \n",
       "6  location: WellingtonWellingtonarea: Wellington...   \n",
       "7  location: Bay of PlentyBay of Plentyarea: Roto...   \n",
       "8  location: Bay of PlentyBay of Plentyarea: Taur...   \n",
       "9                     location: CanterburyCanterbury   \n",
       "\n",
       "                              字段4  \\\n",
       "0  Featured,at,Private Advertiser   \n",
       "1                     Featured,at   \n",
       "2                       4d ago,at   \n",
       "3                       1h ago,at   \n",
       "4    4d ago,at,Private Advertiser   \n",
       "5                       9m ago,at   \n",
       "6                       5d ago,at   \n",
       "7                       7m ago,at   \n",
       "8                       2h ago,at   \n",
       "9                       3d ago,at   \n",
       "\n",
       "                                                 字段5  \n",
       "0  classification: Administration & Office Suppor...  \n",
       "1  classification: Administration & Office Suppor...  \n",
       "2  classification: Administration & Office Suppor...  \n",
       "3  classification: Administration & Office Suppor...  \n",
       "4  classification: Administration & Office Suppor...  \n",
       "5  classification: Administration & Office Suppor...  \n",
       "6  classification: Administration & Office Suppor...  \n",
       "7  classification: Administration & Office Suppor...  \n",
       "8  classification: Administration & Office Suppor...  \n",
       "9  classification: Administration & Office Suppor...  "
      ]
     },
     "execution_count": 4,
     "metadata": {},
     "output_type": "execute_result"
    }
   ],
   "source": [
    "df = pd.read_csv('file/NZ_Admin_JOBS.csv')\n",
    "df.head(10)"
   ]
  },
  {
   "cell_type": "code",
   "execution_count": 5,
   "id": "0c59faa9",
   "metadata": {},
   "outputs": [
    {
     "name": "stdout",
     "output_type": "stream",
     "text": [
      "<class 'pandas.core.frame.DataFrame'>\n",
      "RangeIndex: 2708 entries, 0 to 2707\n",
      "Data columns (total 6 columns):\n",
      " #   Column    Non-Null Count  Dtype \n",
      "---  ------    --------------  ----- \n",
      " 0   字段1       2708 non-null   object\n",
      " 1   字段1_link  2708 non-null   object\n",
      " 2   字段2       2686 non-null   object\n",
      " 3   字段3       2708 non-null   object\n",
      " 4   字段4       2708 non-null   object\n",
      " 5   字段5       2708 non-null   object\n",
      "dtypes: object(6)\n",
      "memory usage: 127.1+ KB\n"
     ]
    }
   ],
   "source": [
    "df.info()"
   ]
  },
  {
   "cell_type": "code",
   "execution_count": 6,
   "id": "8807330b",
   "metadata": {},
   "outputs": [
    {
     "data": {
      "text/plain": [
       "字段1          0\n",
       "字段1_link     0\n",
       "字段2         22\n",
       "字段3          0\n",
       "字段4          0\n",
       "字段5          0\n",
       "dtype: int64"
      ]
     },
     "execution_count": 6,
     "metadata": {},
     "output_type": "execute_result"
    }
   ],
   "source": [
    "df.isnull().sum()"
   ]
  },
  {
   "cell_type": "code",
   "execution_count": 7,
   "id": "45766f5d",
   "metadata": {},
   "outputs": [
    {
     "data": {
      "text/plain": [
       "array(['Featured,at,Private Advertiser', 'Featured,at', '4d ago,at',\n",
       "       '1h ago,at', '4d ago,at,Private Advertiser', '9m ago,at',\n",
       "       '5d ago,at', '7m ago,at', '2h ago,at', '3d ago,at', '7d ago,at',\n",
       "       '8d ago,at', '4h ago,at', '6d ago,at',\n",
       "       '7d ago,at,Private Advertiser', '2d ago,at', '5h ago,at',\n",
       "       '11d ago,at,Private Advertiser', '5h ago,at,Private Advertiser',\n",
       "       '6d ago,at,Private Advertiser', '10d ago,at', '11d ago,at',\n",
       "       '12d ago,at', '5d ago,at,Private Advertiser', '17d ago,at',\n",
       "       '59m ago,at', '13d ago,at', '10d ago,at,Private Advertiser',\n",
       "       '3h ago,at', '12d ago,at,Private Advertiser', '14d ago,at',\n",
       "       '18d ago,at', '9d ago,at', '16d ago,at', '11m ago,at',\n",
       "       '14d ago,at,Private Advertiser', '21d ago,at', '19d ago,at',\n",
       "       '26d ago,at', '20d ago,at', '24d ago,at,Private Advertiser',\n",
       "       '22d ago,at,Private Advertiser', '13d ago,at,Private Advertiser',\n",
       "       '25d ago,at', '27d ago,at', '19d ago,at,Private Advertiser',\n",
       "       '24d ago,at', '28d ago,at', '23d ago,at', '22d ago,at',\n",
       "       '29d ago,at', '28d ago,at,Private Advertiser', '30d ago,at',\n",
       "       '30d+ ago,at'], dtype=object)"
      ]
     },
     "execution_count": 7,
     "metadata": {},
     "output_type": "execute_result"
    }
   ],
   "source": [
    "df['字段4'].unique()"
   ]
  },
  {
   "cell_type": "code",
   "execution_count": 10,
   "id": "5e48eeb0",
   "metadata": {},
   "outputs": [],
   "source": [
    "df['字段4'] = df['字段4'].replace(['Featured,at', 'Featured,at,Private Advertiser'], 'None')\n",
    "df['字段4'] = df['字段4'].replace(['1h ago,at', '3h ago,at', '4h ago,at', '5h ago,at', '5h ago,at,Private Advertiser'], '1d ago, at')\n",
    "df['字段4'] = df['字段4'].replace(['9m ago,at', '7m ago,at', '59m ago,at', '11m ago,at'], '1d ago, at')\n",
    "df['字段4'] = df['字段4'].replace(['4d ago,at,Private Advertiser' ], '4d ago,at')\n",
    "df['字段4'] = df['字段4'].replace(['7d ago,at,Private Advertiser' ], '7d ago,at')\n",
    "df['字段4'] = df['字段4'].replace(['11d ago,at,Private Advertiser'], '11d ago,at')\n",
    "df['字段4'] = df['字段4'].replace(['6d ago,at,Private Advertiser'], '6d ago,at')\n",
    "df['字段4'] = df['字段4'].replace(['5d ago,at,Private Advertiser'], '5d ago,at')\n",
    "df['字段4'] = df['字段4'].replace(['10d ago,at,Private Advertiser'], '10d ago,at')\n",
    "\n",
    "df['字段4'] = df['字段4'].replace(['12d ago,at,Private Advertiser'], '12d ago,at')\n",
    "df['字段4'] = df['字段4'].replace(['14d ago,at,Private Advertiser'], '14d ago,at')\n",
    "df['字段4'] = df['字段4'].replace(['24d ago,at,Private Advertiser'], '24d ago,at')\n",
    "\n",
    "df['字段4'] = df['字段4'].replace(['22d ago,at,Private Advertiser'], '22d ago,at')\n",
    "df['字段4'] = df['字段4'].replace(['13d ago,at,Private Advertiser'], '13d ago,at')\n",
    "df['字段4'] = df['字段4'].replace(['19d ago,at,Private Advertiser'], '19d ago,at')\n",
    "df['字段4'] = df['字段4'].replace(['28d ago,at,Private Advertiser'], '28d ago,at')\n"
   ]
  },
  {
   "cell_type": "code",
   "execution_count": 11,
   "id": "adb4720c",
   "metadata": {},
   "outputs": [
    {
     "data": {
      "text/plain": [
       "array(['None', '4d ago,at', '1d ago, at', '5d ago,at', '2h ago,at',\n",
       "       '3d ago,at', '7d ago,at', '8d ago,at', '6d ago,at', '2d ago,at',\n",
       "       '11d ago,at', '10d ago,at', '12d ago,at', '17d ago,at',\n",
       "       '13d ago,at', '14d ago,at', '18d ago,at', '9d ago,at',\n",
       "       '16d ago,at', '21d ago,at', '19d ago,at', '26d ago,at',\n",
       "       '20d ago,at', '24d ago,at', '22d ago,at', '25d ago,at',\n",
       "       '27d ago,at', '28d ago,at', '23d ago,at', '29d ago,at',\n",
       "       '30d ago,at', '30d+ ago,at'], dtype=object)"
      ]
     },
     "execution_count": 11,
     "metadata": {},
     "output_type": "execute_result"
    }
   ],
   "source": [
    "df['字段4'].unique()"
   ]
  },
  {
   "cell_type": "code",
   "execution_count": 12,
   "id": "6feee893",
   "metadata": {},
   "outputs": [],
   "source": [
    "df['rate']='None'"
   ]
  },
  {
   "cell_type": "code",
   "execution_count": 16,
   "id": "30773c5e",
   "metadata": {},
   "outputs": [
    {
     "data": {
      "text/plain": [
       "Index(['字段1', '字段1_link', '字段2', '字段3', '字段4', '字段5', 'rate'], dtype='object')"
      ]
     },
     "execution_count": 16,
     "metadata": {},
     "output_type": "execute_result"
    }
   ],
   "source": [
    "df.columns"
   ]
  },
  {
   "cell_type": "code",
   "execution_count": 14,
   "id": "9d2477bb",
   "metadata": {},
   "outputs": [
    {
     "data": {
      "text/plain": [
       "array(['classification: Administration & Office SupportAdministration & Office SupportsubClassification: Office ManagementOffice Management',\n",
       "       'classification: Administration & Office SupportAdministration & Office SupportsubClassification: ReceptionistsReceptionists',\n",
       "       'classification: Administration & Office SupportAdministration & Office SupportsubClassification: OtherOther',\n",
       "       'classification: Administration & Office SupportAdministration & Office SupportsubClassification: Administrative AssistantsAdministrative Assistants',\n",
       "       'classification: Administration & Office SupportAdministration & Office SupportsubClassification: Client & Sales AdministrationClient & Sales Administration',\n",
       "       'classification: Administration & Office SupportAdministration & Office SupportsubClassification: Data Entry & Word ProcessingData Entry & Word Processing',\n",
       "       '$20 per hour', '$20 - $24.99 per hour', '$19 to $22 per hour',\n",
       "       '$40,000 - $49,999',\n",
       "       'classification: Administration & Office SupportAdministration & Office SupportsubClassification: PA, EA & SecretarialPA, EA & Secretarial',\n",
       "       '$25 per hour', 'Includes life and health insurance',\n",
       "       '$60 000 - $70 000 per annum', '$20.00 per hour',\n",
       "       '$55,000 - $69,999', '$20.00 per hour.', '$21 per hour',\n",
       "       '$55,000 - $64,999', '$50,000 - $55,000 plus benefits',\n",
       "       'incl Life & Health Insurance',\n",
       "       'classification: Administration & Office SupportAdministration & Office SupportsubClassification: Contracts AdministrationContracts Administration',\n",
       "       '$45,000 - $49,999', '$55,000 - $60,000 per annum pro rata',\n",
       "       'classification: Administration & Office SupportAdministration & Office SupportsubClassification: Records Management & Document ControlRecords Management & Document Control',\n",
       "       '$48,835 - $63,221', '$20 - $29.99 per hour', '$24-$28',\n",
       "       'Up to $27ph', '8% holiday pay', '$45,000 - $59,999',\n",
       "       'NZD25 - NZD28 per hour', 'Competitive Salary', '$22 per hour',\n",
       "       'NZD75000 per annum', '$75k - $85k p.a.',\n",
       "       '$24 - $25 + 8% holiday pay!', '$50,000 per annum.',\n",
       "       'bonus plus medical insurance', '$20 - $25 per hour',\n",
       "       'Good salary', '$30 - $38 p.h. + 8% Holiday Pay', '$45-$55,000',\n",
       "       '$50,000 - $54,999', 'Up to $23 p.h. + + 8% Holiday Pay',\n",
       "       'Up to $22.00 p.h.',\n",
       "       'NZD69,726-94,127p.a.+Retirement contributions',\n",
       "       '$60k-$70k depending on experience!', '$22.00 - $23.00 phr',\n",
       "       '$27 - $33 p.h. + 8% holiday pay',\n",
       "       '$60K - $80K experience dependent',\n",
       "       '$60 - $65k + Career Progression to QS / leadership',\n",
       "       '$35 - $39.99 per hour',\n",
       "       '$20 - $24.99 per hour dependent on experience.',\n",
       "       'Up to $27 p.h. + 8% Holiday Pay', 'NZD19 - NZD23 per hour',\n",
       "       '$60,000 pa', '$21 - $25 p.h. + 8% Holiday Pay',\n",
       "       '$60,000 - $69,999', '$21-$23 per hour', '$50,000 - $59,999',\n",
       "       '$40 - $45 per hour', '$18.50 - $23.50 per hour', '$25.5',\n",
       "       'Up to $35 p.h. + 8% Holiday Pay',\n",
       "       '$21 - $22 p.h. + 8% Holiday Pay', 'NZD25 - NZD30 per hour',\n",
       "       '$25 - $29.99 per hour', 'Competitive', '$50,000 - $69,999',\n",
       "       'Attractive salary neg.', '$50,000 - $64,999',\n",
       "       '$20 - $40 per hour', '$48,000 - $55,000',\n",
       "       '$50k - $65k p.a. + plus kiwisaver', '$70-$80k+Super',\n",
       "       '$20 - $30 per hour', '$45,000 - $54,999',\n",
       "       'Competitive hourly rate, experience dependent',\n",
       "       '$55,000 - $65,000 depending on relevant experience',\n",
       "       'Competitive salary + phone + parking!', '$70-75k per annum',\n",
       "       'Competitive salary', '$45,000 - $55,000 depending on experience',\n",
       "       '$24 - $28 p.h.  + 8% Holiday Pay',\n",
       "       '$35 - $40 p.h. + + 8% Holiday Pay',\n",
       "       '+ Car park, close to public transport', 'Circa 50k',\n",
       "       'Send us your CV today!', 'Competitive hourly rates $$',\n",
       "       'Competitive hourly rate depending on experience',\n",
       "       'Attractive remuneration', 'Competitive hourly rate'], dtype=object)"
      ]
     },
     "execution_count": 14,
     "metadata": {},
     "output_type": "execute_result"
    }
   ],
   "source": [
    "df['字段5'].unique()"
   ]
  },
  {
   "cell_type": "code",
   "execution_count": null,
   "id": "b26bff0b",
   "metadata": {},
   "outputs": [],
   "source": []
  }
 ],
 "metadata": {
  "kernelspec": {
   "display_name": "Python 3 (ipykernel)",
   "language": "python",
   "name": "python3"
  },
  "language_info": {
   "codemirror_mode": {
    "name": "ipython",
    "version": 3
   },
   "file_extension": ".py",
   "mimetype": "text/x-python",
   "name": "python",
   "nbconvert_exporter": "python",
   "pygments_lexer": "ipython3",
   "version": "3.9.12"
  }
 },
 "nbformat": 4,
 "nbformat_minor": 5
}
