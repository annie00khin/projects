{
 "cells": [
  {
   "cell_type": "markdown",
   "id": "e928ab6f",
   "metadata": {},
   "source": []
  },
  {
   "cell_type": "code",
   "execution_count": 34,
   "id": "3f88b914",
   "metadata": {},
   "outputs": [],
   "source": [
    "import pandas as pd"
   ]
  },
  {
   "cell_type": "code",
   "execution_count": 35,
   "id": "894a688a",
   "metadata": {},
   "outputs": [
    {
     "data": {
      "text/html": [
       "<div>\n",
       "<style scoped>\n",
       "    .dataframe tbody tr th:only-of-type {\n",
       "        vertical-align: middle;\n",
       "    }\n",
       "\n",
       "    .dataframe tbody tr th {\n",
       "        vertical-align: top;\n",
       "    }\n",
       "\n",
       "    .dataframe thead th {\n",
       "        text-align: right;\n",
       "    }\n",
       "</style>\n",
       "<table border=\"1\" class=\"dataframe\">\n",
       "  <thead>\n",
       "    <tr style=\"text-align: right;\">\n",
       "      <th></th>\n",
       "      <th>0</th>\n",
       "      <th>1</th>\n",
       "      <th>2</th>\n",
       "      <th>3</th>\n",
       "      <th>4</th>\n",
       "      <th>5</th>\n",
       "    </tr>\n",
       "  </thead>\n",
       "  <tbody>\n",
       "    <tr>\n",
       "      <th>0</th>\n",
       "      <td>字段1</td>\n",
       "      <td>字段1_link</td>\n",
       "      <td>字段2</td>\n",
       "      <td>字段3</td>\n",
       "      <td>字段4</td>\n",
       "      <td>字段5</td>\n",
       "    </tr>\n",
       "    <tr>\n",
       "      <th>1</th>\n",
       "      <td>Administrator</td>\n",
       "      <td>https://www.seek.co.nz/job/50582301?type=promo...</td>\n",
       "      <td>NaN</td>\n",
       "      <td>location: Bay of PlentyBay of Plentyarea: Taur...</td>\n",
       "      <td>Featured,at,Private Advertiser</td>\n",
       "      <td>classification: Administration &amp; Office Suppor...</td>\n",
       "    </tr>\n",
       "    <tr>\n",
       "      <th>2</th>\n",
       "      <td>Receptionist</td>\n",
       "      <td>https://www.seek.co.nz/job/50620889?type=promo...</td>\n",
       "      <td>Avenues Orthodontics</td>\n",
       "      <td>location: Bay of PlentyBay of Plentyarea: Taur...</td>\n",
       "      <td>Featured,at</td>\n",
       "      <td>classification: Administration &amp; Office Suppor...</td>\n",
       "    </tr>\n",
       "    <tr>\n",
       "      <th>3</th>\n",
       "      <td>Prosecutions Support Officer</td>\n",
       "      <td>https://www.seek.co.nz/job/50622169?type=stand...</td>\n",
       "      <td>New Zealand Police</td>\n",
       "      <td>location: AucklandAuckland</td>\n",
       "      <td>4d ago,at</td>\n",
       "      <td>classification: Administration &amp; Office Suppor...</td>\n",
       "    </tr>\n",
       "    <tr>\n",
       "      <th>4</th>\n",
       "      <td>Early Childhood Centre Administrator</td>\n",
       "      <td>https://www.seek.co.nz/job/50639620?type=stand...</td>\n",
       "      <td>Kew Pacific Island Early Learning Centre</td>\n",
       "      <td>location: SouthlandSouthlandarea: Invercargill...</td>\n",
       "      <td>1h ago,at</td>\n",
       "      <td>classification: Administration &amp; Office Suppor...</td>\n",
       "    </tr>\n",
       "  </tbody>\n",
       "</table>\n",
       "</div>"
      ],
      "text/plain": [
       "                                      0  \\\n",
       "0                                   字段1   \n",
       "1                         Administrator   \n",
       "2                          Receptionist   \n",
       "3          Prosecutions Support Officer   \n",
       "4  Early Childhood Centre Administrator   \n",
       "\n",
       "                                                   1  \\\n",
       "0                                           字段1_link   \n",
       "1  https://www.seek.co.nz/job/50582301?type=promo...   \n",
       "2  https://www.seek.co.nz/job/50620889?type=promo...   \n",
       "3  https://www.seek.co.nz/job/50622169?type=stand...   \n",
       "4  https://www.seek.co.nz/job/50639620?type=stand...   \n",
       "\n",
       "                                          2  \\\n",
       "0                                       字段2   \n",
       "1                                       NaN   \n",
       "2                      Avenues Orthodontics   \n",
       "3                        New Zealand Police   \n",
       "4  Kew Pacific Island Early Learning Centre   \n",
       "\n",
       "                                                   3  \\\n",
       "0                                                字段3   \n",
       "1  location: Bay of PlentyBay of Plentyarea: Taur...   \n",
       "2  location: Bay of PlentyBay of Plentyarea: Taur...   \n",
       "3                         location: AucklandAuckland   \n",
       "4  location: SouthlandSouthlandarea: Invercargill...   \n",
       "\n",
       "                                4  \\\n",
       "0                             字段4   \n",
       "1  Featured,at,Private Advertiser   \n",
       "2                     Featured,at   \n",
       "3                       4d ago,at   \n",
       "4                       1h ago,at   \n",
       "\n",
       "                                                   5  \n",
       "0                                                字段5  \n",
       "1  classification: Administration & Office Suppor...  \n",
       "2  classification: Administration & Office Suppor...  \n",
       "3  classification: Administration & Office Suppor...  \n",
       "4  classification: Administration & Office Suppor...  "
      ]
     },
     "execution_count": 35,
     "metadata": {},
     "output_type": "execute_result"
    }
   ],
   "source": [
    "nz_admin = pd.read_csv('file/NZ_Admin_JOBS.csv', header=None)\n",
    "nz_admin.head()"
   ]
  },
  {
   "cell_type": "code",
   "execution_count": 36,
   "id": "0c59faa9",
   "metadata": {},
   "outputs": [
    {
     "data": {
      "text/html": [
       "<div>\n",
       "<style scoped>\n",
       "    .dataframe tbody tr th:only-of-type {\n",
       "        vertical-align: middle;\n",
       "    }\n",
       "\n",
       "    .dataframe tbody tr th {\n",
       "        vertical-align: top;\n",
       "    }\n",
       "\n",
       "    .dataframe thead th {\n",
       "        text-align: right;\n",
       "    }\n",
       "</style>\n",
       "<table border=\"1\" class=\"dataframe\">\n",
       "  <thead>\n",
       "    <tr style=\"text-align: right;\">\n",
       "      <th></th>\n",
       "      <th>0</th>\n",
       "      <th>1</th>\n",
       "      <th>2</th>\n",
       "      <th>3</th>\n",
       "      <th>4</th>\n",
       "      <th>5</th>\n",
       "    </tr>\n",
       "  </thead>\n",
       "  <tbody>\n",
       "    <tr>\n",
       "      <th>1</th>\n",
       "      <td>Administrator</td>\n",
       "      <td>https://www.seek.co.nz/job/50582301?type=promo...</td>\n",
       "      <td>NaN</td>\n",
       "      <td>location: Bay of PlentyBay of Plentyarea: Taur...</td>\n",
       "      <td>Featured,at,Private Advertiser</td>\n",
       "      <td>classification: Administration &amp; Office Suppor...</td>\n",
       "    </tr>\n",
       "    <tr>\n",
       "      <th>2</th>\n",
       "      <td>Receptionist</td>\n",
       "      <td>https://www.seek.co.nz/job/50620889?type=promo...</td>\n",
       "      <td>Avenues Orthodontics</td>\n",
       "      <td>location: Bay of PlentyBay of Plentyarea: Taur...</td>\n",
       "      <td>Featured,at</td>\n",
       "      <td>classification: Administration &amp; Office Suppor...</td>\n",
       "    </tr>\n",
       "    <tr>\n",
       "      <th>3</th>\n",
       "      <td>Prosecutions Support Officer</td>\n",
       "      <td>https://www.seek.co.nz/job/50622169?type=stand...</td>\n",
       "      <td>New Zealand Police</td>\n",
       "      <td>location: AucklandAuckland</td>\n",
       "      <td>4d ago,at</td>\n",
       "      <td>classification: Administration &amp; Office Suppor...</td>\n",
       "    </tr>\n",
       "    <tr>\n",
       "      <th>4</th>\n",
       "      <td>Early Childhood Centre Administrator</td>\n",
       "      <td>https://www.seek.co.nz/job/50639620?type=stand...</td>\n",
       "      <td>Kew Pacific Island Early Learning Centre</td>\n",
       "      <td>location: SouthlandSouthlandarea: Invercargill...</td>\n",
       "      <td>1h ago,at</td>\n",
       "      <td>classification: Administration &amp; Office Suppor...</td>\n",
       "    </tr>\n",
       "    <tr>\n",
       "      <th>5</th>\n",
       "      <td>Business Support Administrator</td>\n",
       "      <td>https://www.seek.co.nz/job/50622432?type=stand...</td>\n",
       "      <td>NaN</td>\n",
       "      <td>location: CanterburyCanterburyarea: Christchur...</td>\n",
       "      <td>4d ago,at,Private Advertiser</td>\n",
       "      <td>classification: Administration &amp; Office Suppor...</td>\n",
       "    </tr>\n",
       "  </tbody>\n",
       "</table>\n",
       "</div>"
      ],
      "text/plain": [
       "                                      0  \\\n",
       "1                         Administrator   \n",
       "2                          Receptionist   \n",
       "3          Prosecutions Support Officer   \n",
       "4  Early Childhood Centre Administrator   \n",
       "5        Business Support Administrator   \n",
       "\n",
       "                                                   1  \\\n",
       "1  https://www.seek.co.nz/job/50582301?type=promo...   \n",
       "2  https://www.seek.co.nz/job/50620889?type=promo...   \n",
       "3  https://www.seek.co.nz/job/50622169?type=stand...   \n",
       "4  https://www.seek.co.nz/job/50639620?type=stand...   \n",
       "5  https://www.seek.co.nz/job/50622432?type=stand...   \n",
       "\n",
       "                                          2  \\\n",
       "1                                       NaN   \n",
       "2                      Avenues Orthodontics   \n",
       "3                        New Zealand Police   \n",
       "4  Kew Pacific Island Early Learning Centre   \n",
       "5                                       NaN   \n",
       "\n",
       "                                                   3  \\\n",
       "1  location: Bay of PlentyBay of Plentyarea: Taur...   \n",
       "2  location: Bay of PlentyBay of Plentyarea: Taur...   \n",
       "3                         location: AucklandAuckland   \n",
       "4  location: SouthlandSouthlandarea: Invercargill...   \n",
       "5  location: CanterburyCanterburyarea: Christchur...   \n",
       "\n",
       "                                4  \\\n",
       "1  Featured,at,Private Advertiser   \n",
       "2                     Featured,at   \n",
       "3                       4d ago,at   \n",
       "4                       1h ago,at   \n",
       "5    4d ago,at,Private Advertiser   \n",
       "\n",
       "                                                   5  \n",
       "1  classification: Administration & Office Suppor...  \n",
       "2  classification: Administration & Office Suppor...  \n",
       "3  classification: Administration & Office Suppor...  \n",
       "4  classification: Administration & Office Suppor...  \n",
       "5  classification: Administration & Office Suppor...  "
      ]
     },
     "execution_count": 36,
     "metadata": {},
     "output_type": "execute_result"
    }
   ],
   "source": [
    "nzAdmin = nz_admin.drop([0])\n",
    "nzAdmin.head()"
   ]
  },
  {
   "cell_type": "code",
   "execution_count": 37,
   "id": "920d3f62",
   "metadata": {},
   "outputs": [
    {
     "name": "stdout",
     "output_type": "stream",
     "text": [
      "<class 'pandas.core.frame.DataFrame'>\n",
      "RangeIndex: 2708 entries, 1 to 2708\n",
      "Data columns (total 6 columns):\n",
      " #   Column  Non-Null Count  Dtype \n",
      "---  ------  --------------  ----- \n",
      " 0   0       2708 non-null   object\n",
      " 1   1       2708 non-null   object\n",
      " 2   2       2686 non-null   object\n",
      " 3   3       2708 non-null   object\n",
      " 4   4       2708 non-null   object\n",
      " 5   5       2708 non-null   object\n",
      "dtypes: object(6)\n",
      "memory usage: 127.1+ KB\n"
     ]
    }
   ],
   "source": [
    "nzAdmin.info()"
   ]
  },
  {
   "cell_type": "code",
   "execution_count": 38,
   "id": "8807330b",
   "metadata": {
    "scrolled": true
   },
   "outputs": [
    {
     "data": {
      "text/plain": [
       "0     0\n",
       "1     0\n",
       "2    22\n",
       "3     0\n",
       "4     0\n",
       "5     0\n",
       "dtype: int64"
      ]
     },
     "execution_count": 38,
     "metadata": {},
     "output_type": "execute_result"
    }
   ],
   "source": [
    "nzAdmin.isnull().sum()"
   ]
  },
  {
   "cell_type": "code",
   "execution_count": 39,
   "id": "45766f5d",
   "metadata": {},
   "outputs": [
    {
     "data": {
      "text/plain": [
       "array(['location: Bay of PlentyBay of Plentyarea: TaurangaTauranga',\n",
       "       'location: AucklandAuckland',\n",
       "       'location: SouthlandSouthlandarea: InvercargillInvercargill',\n",
       "       'location: CanterburyCanterburyarea: ChristchurchChristchurch',\n",
       "       'location: NorthlandNorthlandarea: WhangareiWhangarei',\n",
       "       'location: WellingtonWellingtonarea: Wellington CentralWellington Central',\n",
       "       'location: Bay of PlentyBay of Plentyarea: RotoruaRotorua',\n",
       "       'location: CanterburyCanterbury',\n",
       "       'location: West CoastWest Coastarea: Rest of West CoastRest of West Coast',\n",
       "       'location: TasmanTasmanarea: NelsonNelson',\n",
       "       'location: AucklandAucklandarea: Manukau & East AucklandManukau & East Auckland,$20 per hour',\n",
       "       'location: CanterburyCanterburyarea: Rest of CanterburyRest of Canterbury',\n",
       "       'location: CanterburyCanterburyarea: Timaru & South CanterburyTimaru & South Canterbury',\n",
       "       'location: AucklandAucklandarea: Auckland CentralAuckland Central',\n",
       "       'location: AucklandAucklandarea: Auckland CentralAuckland Central,$20 - $24.99 per hour',\n",
       "       'location: ManawatuManawatuarea: Rest of ManawatuRest of Manawatu',\n",
       "       'location: AucklandAucklandarea: Papakura & FranklinPapakura & Franklin',\n",
       "       'location: AucklandAucklandarea: Rodney & North ShoreRodney & North Shore,$19 to $22 per hour',\n",
       "       'location: WaikatoWaikatoarea: Rest of WaikatoRest of Waikato',\n",
       "       'location: AucklandAucklandarea: Manukau & East AucklandManukau & East Auckland,$20 - $24.99 per hour',\n",
       "       'location: Hawkes BayHawkes Bayarea: HastingsHastings',\n",
       "       'location: OtagoOtagoarea: Queenstown & WanakaQueenstown & Wanaka',\n",
       "       'location: OtagoOtagoarea: Rest of OtagoRest of Otago',\n",
       "       'location: WaikatoWaikatoarea: HamiltonHamilton',\n",
       "       'location: WaikatoWaikatoarea: Rest of WaikatoRest of Waikato,$20 - $24.99 per hour',\n",
       "       'location: WellingtonWellingtonarea: Hutt ValleyHutt Valley',\n",
       "       'location: TaranakiTaranakiarea: New PlymouthNew Plymouth',\n",
       "       'location: ManawatuManawatuarea: Palmerston NorthPalmerston North,$40,000 - $49,999',\n",
       "       'location: AucklandAucklandarea: Waitakere & West AucklandWaitakere & West Auckland',\n",
       "       'location: NorthlandNorthlandarea: WhangareiWhangarei,$25 per hour',\n",
       "       'location: AucklandAucklandarea: Manukau & East AucklandManukau & East Auckland',\n",
       "       'location: TaranakiTaranakiarea: Rest of TaranakiRest of Taranaki',\n",
       "       'location: WaikatoWaikatoarea: HamiltonHamilton,Includes life and health insurance',\n",
       "       'location: Bay of PlentyBay of Plentyarea: TaurangaTauranga,$60 000 - $70 000 per annum',\n",
       "       'location: AucklandAucklandarea: Manukau & East AucklandManukau & East Auckland,$20.00 per hour',\n",
       "       'location: AucklandAucklandarea: Auckland CentralAuckland Central,Includes life and health insurance',\n",
       "       'location: AucklandAucklandarea: Rodney & North ShoreRodney & North Shore',\n",
       "       'location: OtagoOtagoarea: DunedinDunedin',\n",
       "       'location: Bay of PlentyBay of Plentyarea: Rest of Bay of PlentyRest of Bay of Plenty,$20 - $24.99 per hour',\n",
       "       'location: MarlboroughMarlborougharea: BlenheimBlenheim',\n",
       "       'location: CanterburyCanterburyarea: ChristchurchChristchurch,$55,000 - $69,999',\n",
       "       'location: WellingtonWellingtonarea: Wellington CentralWellington Central,$20.00 per hour.',\n",
       "       'location: AucklandAucklandarea: Papakura & FranklinPapakura & Franklin,$20 - $24.99 per hour',\n",
       "       'location: AucklandAucklandarea: Manukau & East AucklandManukau & East Auckland,$21 per hour',\n",
       "       'location: WaikatoWaikatoarea: HamiltonHamilton,$55,000 - $64,999',\n",
       "       'location: WaikatoWaikatoarea: Thames & CoromandelThames & Coromandel',\n",
       "       'location: AucklandAucklandarea: Auckland CentralAuckland Central,$50,000 - $55,000 plus benefits',\n",
       "       'location: ManawatuManawatuarea: Palmerston NorthPalmerston North,incl Life & Health Insurance',\n",
       "       'location: AucklandAucklandarea: Auckland CentralAuckland Central,$45,000 - $49,999',\n",
       "       'location: ManawatuManawatuarea: Palmerston NorthPalmerston North',\n",
       "       'location: WellingtonWellingtonarea: Wellington CentralWellington Central,$55,000 - $60,000 per annum pro rata',\n",
       "       'location: AucklandAucklandarea: Rodney & North ShoreRodney & North Shore,Includes life and health insurance',\n",
       "       'location: TasmanTasmanarea: Rest of TasmanRest of Tasman',\n",
       "       'location: WellingtonWellingtonarea: Wellington CentralWellington Central,$20 - $24.99 per hour',\n",
       "       'location: AucklandAucklandarea: Manukau & East AucklandManukau & East Auckland,$48,835 - $63,221',\n",
       "       'location: AucklandAucklandarea: Waitakere & West AucklandWaitakere & West Auckland,$20 - $29.99 per hour',\n",
       "       'location: WellingtonWellingtonarea: Hutt ValleyHutt Valley,$24-$28',\n",
       "       'location: ManawatuManawatuarea: Palmerston NorthPalmerston North,Up to $27ph',\n",
       "       'location: Hawkes BayHawkes Bayarea: NapierNapier',\n",
       "       'location: WellingtonWellingtonarea: Wellington CentralWellington Central,$20 - $29.99 per hour',\n",
       "       'location: OtagoOtagoarea: DunedinDunedin,$20 - $29.99 per hour',\n",
       "       'location: MarlboroughMarlborough',\n",
       "       'location: WellingtonWellington',\n",
       "       'location: Hawkes BayHawkes Bayarea: Rest of Hawkes BayRest of Hawkes Bay',\n",
       "       'location: AucklandAucklandarea: Waitakere & West AucklandWaitakere & West Auckland,8% holiday pay',\n",
       "       'location: GisborneGisbornearea: GisborneGisborne',\n",
       "       'location: AucklandAucklandarea: Waitakere & West AucklandWaitakere & West Auckland,$55,000 - $64,999',\n",
       "       'location: WellingtonWellingtonarea: Wellington CentralWellington Central,$40,000 - $49,999',\n",
       "       'location: NorthlandNorthlandarea: Rest of NorthlandRest of Northland',\n",
       "       'location: AucklandAucklandarea: Auckland CentralAuckland Central,$45,000 - $59,999',\n",
       "       'location: AucklandAucklandarea: Manukau & East AucklandManukau & East Auckland,NZD25 - NZD28 per hour',\n",
       "       'location: WellingtonWellingtonarea: Porirua & Kapiti CoastPorirua & Kapiti Coast',\n",
       "       'location: AucklandAucklandarea: Rodney & North ShoreRodney & North Shore,$45,000 - $49,999',\n",
       "       'location: AucklandAucklandarea: Auckland CentralAuckland Central,Competitive Salary',\n",
       "       'location: WellingtonWellingtonarea: Rest of Wellington RegionRest of Wellington Region',\n",
       "       'location: Hawkes BayHawkes Bayarea: HastingsHastings,$22 per hour',\n",
       "       'location: AucklandAucklandarea: Auckland CentralAuckland Central,NZD75000 per annum',\n",
       "       'location: AucklandAucklandarea: Rodney & North ShoreRodney & North Shore,$20 - $24.99 per hour',\n",
       "       'location: WellingtonWellington,$75k - $85k p.a.',\n",
       "       'location: AucklandAucklandarea: Auckland CentralAuckland Central,$24 - $25 + 8% holiday pay!',\n",
       "       'location: ManawatuManawatuarea: WanganuiWanganui',\n",
       "       'location: AucklandAucklandarea: Rodney & North ShoreRodney & North Shore,$40,000 - $49,999',\n",
       "       'location: WellingtonWellingtonarea: Wellington CentralWellington Central,$50,000 per annum.',\n",
       "       'location: AucklandAucklandarea: Manukau & East AucklandManukau & East Auckland,bonus plus medical insurance',\n",
       "       'location: AucklandAucklandarea: Manukau & East AucklandManukau & East Auckland,$20 - $25 per hour',\n",
       "       'location: ManawatuManawatu',\n",
       "       'location: TaranakiTaranakiarea: Rest of TaranakiRest of Taranaki,$20 - $24.99 per hour',\n",
       "       'location: WellingtonWellingtonarea: Wellington CentralWellington Central,Good salary',\n",
       "       'location: AucklandAucklandarea: Auckland CentralAuckland Central,$30 - $38 p.h. + 8% Holiday Pay',\n",
       "       'location: MarlboroughMarlborougharea: BlenheimBlenheim,$45-$55,000',\n",
       "       'location: AucklandAucklandarea: Waitakere & West AucklandWaitakere & West Auckland,$50,000 - $54,999',\n",
       "       'location: AucklandAucklandarea: Auckland CentralAuckland Central,Up to $23 p.h. + + 8% Holiday Pay',\n",
       "       'location: WellingtonWellington,Up to $22.00 p.h.',\n",
       "       'location: WellingtonWellingtonarea: Wellington CentralWellington Central,NZD69,726-94,127p.a.+Retirement contributions',\n",
       "       'location: AucklandAucklandarea: Rodney & North ShoreRodney & North Shore,$60k-$70k depending on experience!',\n",
       "       'location: AucklandAucklandarea: Auckland CentralAuckland Central,$22.00 - $23.00 phr',\n",
       "       'location: AucklandAucklandarea: Waitakere & West AucklandWaitakere & West Auckland,$40,000 - $49,999',\n",
       "       'location: AucklandAucklandarea: Manukau & East AucklandManukau & East Auckland,$27 - $33 p.h. + 8% holiday pay',\n",
       "       'location: AucklandAucklandarea: Auckland CentralAuckland Central,$60K - $80K experience dependent',\n",
       "       'location: AucklandAucklandarea: Waitakere & West AucklandWaitakere & West Auckland,$60 - $65k + Career Progression to QS / leadership',\n",
       "       'location: Bay of PlentyBay of Plentyarea: Rest of Bay of PlentyRest of Bay of Plenty',\n",
       "       'location: AucklandAucklandarea: Rodney & North ShoreRodney & North Shore,$35 - $39.99 per hour',\n",
       "       'location: OtagoOtagoarea: Queenstown & WanakaQueenstown & Wanaka,$55,000 - $64,999',\n",
       "       'location: WaikatoWaikatoarea: TaupoTaupo',\n",
       "       'location: AucklandAucklandarea: Waitakere & West AucklandWaitakere & West Auckland,$20 - $24.99 per hour dependent on experience.',\n",
       "       'location: AucklandAucklandarea: Auckland CentralAuckland Central,Up to $27 p.h. + 8% Holiday Pay',\n",
       "       'location: Bay of PlentyBay of Plenty',\n",
       "       'location: CanterburyCanterburyarea: ChristchurchChristchurch,NZD19 - NZD23 per hour',\n",
       "       'location: AucklandAucklandarea: Auckland CentralAuckland Central,$60,000 pa',\n",
       "       'location: AucklandAucklandarea: Manukau & East AucklandManukau & East Auckland,$21 - $25 p.h. + 8% Holiday Pay',\n",
       "       'location: WellingtonWellingtonarea: Wellington CentralWellington Central,$60,000 - $69,999',\n",
       "       'location: CanterburyCanterburyarea: ChristchurchChristchurch,$21-$23 per hour',\n",
       "       'location: AucklandAucklandarea: Papakura & FranklinPapakura & Franklin,$50,000 - $59,999',\n",
       "       'location: AucklandAucklandarea: Auckland CentralAuckland Central,$40 - $45 per hour',\n",
       "       'location: OtagoOtagoarea: Rest of OtagoRest of Otago,$18.50 - $23.50 per hour',\n",
       "       'location: WellingtonWellingtonarea: Porirua & Kapiti CoastPorirua & Kapiti Coast,$25.5',\n",
       "       'location: AucklandAucklandarea: Auckland CentralAuckland Central,Up to $35 p.h. + 8% Holiday Pay',\n",
       "       'location: AucklandAuckland,$21 - $22 p.h. + 8% Holiday Pay',\n",
       "       'location: WellingtonWellingtonarea: Wellington CentralWellington Central,NZD25 - NZD30 per hour',\n",
       "       'location: AucklandAucklandarea: Manukau & East AucklandManukau & East Auckland,$25 - $29.99 per hour',\n",
       "       'location: SouthlandSouthlandarea: InvercargillInvercargill,Competitive',\n",
       "       'location: AucklandAucklandarea: Auckland CentralAuckland Central,$50,000 - $69,999',\n",
       "       'location: CanterburyCanterburyarea: ChristchurchChristchurch,Attractive salary neg.',\n",
       "       'location: WaikatoWaikatoarea: Rest of WaikatoRest of Waikato,$50,000 - $59,999',\n",
       "       'location: OtagoOtagoarea: DunedinDunedin,$25 - $29.99 per hour',\n",
       "       'location: OtagoOtagoarea: DunedinDunedin,$50,000 - $64,999',\n",
       "       'location: AucklandAucklandarea: Auckland CentralAuckland Central,$20 - $40 per hour',\n",
       "       'location: AucklandAucklandarea: Rodney & North ShoreRodney & North Shore,$48,000 - $55,000',\n",
       "       'location: WellingtonWellington,$50k - $65k p.a. + plus kiwisaver',\n",
       "       'location: AucklandAuckland,$70-$80k+Super',\n",
       "       'location: WellingtonWellington,$20 - $30 per hour',\n",
       "       'location: AucklandAucklandarea: Auckland CentralAuckland Central,$45,000 - $54,999',\n",
       "       'location: WaikatoWaikatoarea: HamiltonHamilton,Competitive hourly rate, experience dependent',\n",
       "       'location: AucklandAucklandarea: Rodney & North ShoreRodney & North Shore,$55,000 - $65,000 depending on relevant experience',\n",
       "       'location: AucklandAucklandarea: Rodney & North ShoreRodney & North Shore,Competitive salary + phone + parking!',\n",
       "       'location: WellingtonWellingtonarea: Wellington CentralWellington Central,$70-75k per annum',\n",
       "       'location: AucklandAucklandarea: Manukau & East AucklandManukau & East Auckland,Competitive salary',\n",
       "       'location: AucklandAucklandarea: Auckland CentralAuckland Central,$45,000 - $55,000 depending on experience',\n",
       "       'location: AucklandAucklandarea: Auckland CentralAuckland Central,$24 - $28 p.h.  + 8% Holiday Pay',\n",
       "       'location: AucklandAucklandarea: Auckland CentralAuckland Central,$35 - $40 p.h. + + 8% Holiday Pay',\n",
       "       'location: AucklandAucklandarea: Auckland CentralAuckland Central,+ Car park, close to public transport',\n",
       "       'location: AucklandAucklandarea: Papakura & FranklinPapakura & Franklin,Circa 50k',\n",
       "       'location: WellingtonWellingtonarea: Wellington CentralWellington Central,Send us your CV today!',\n",
       "       'location: WaikatoWaikatoarea: HamiltonHamilton,Competitive hourly rates $$',\n",
       "       'location: AucklandAucklandarea: Auckland CentralAuckland Central,Competitive hourly rate depending on experience',\n",
       "       'location: WellingtonWellington,Attractive remuneration',\n",
       "       'location: WellingtonWellingtonarea: Wellington CentralWellington Central,Competitive hourly rate'],\n",
       "      dtype=object)"
      ]
     },
     "execution_count": 39,
     "metadata": {},
     "output_type": "execute_result"
    }
   ],
   "source": [
    "nzAdmin[3].unique()"
   ]
  },
  {
   "cell_type": "code",
   "execution_count": 40,
   "id": "5e48eeb0",
   "metadata": {},
   "outputs": [
    {
     "data": {
      "text/plain": [
       "1       location: Bay of PlentyBay of Plentyarea: Taur...\n",
       "2       location: Bay of PlentyBay of Plentyarea: Taur...\n",
       "3                              location: AucklandAuckland\n",
       "4       location: SouthlandSouthlandarea: Invercargill...\n",
       "5       location: CanterburyCanterburyarea: Christchur...\n",
       "                              ...                        \n",
       "2704    location: AucklandAucklandarea: Auckland Centr...\n",
       "2705    location: WellingtonWellingtonarea: Wellington...\n",
       "2706       location: WaikatoWaikatoarea: HamiltonHamilton\n",
       "2707       location: WaikatoWaikatoarea: HamiltonHamilton\n",
       "2708                       location: WellingtonWellington\n",
       "Name: 3, Length: 2708, dtype: object"
      ]
     },
     "execution_count": 40,
     "metadata": {},
     "output_type": "execute_result"
    }
   ],
   "source": [
    "## filter other information (not location or area) out\n",
    "nzAdmin[3] = nzAdmin[3].str.split(',', n=1, expand=True)[0]\n",
    "nzAdmin[3]"
   ]
  },
  {
   "cell_type": "code",
   "execution_count": 41,
   "id": "df581213",
   "metadata": {},
   "outputs": [
    {
     "data": {
      "text/html": [
       "<div>\n",
       "<style scoped>\n",
       "    .dataframe tbody tr th:only-of-type {\n",
       "        vertical-align: middle;\n",
       "    }\n",
       "\n",
       "    .dataframe tbody tr th {\n",
       "        vertical-align: top;\n",
       "    }\n",
       "\n",
       "    .dataframe thead th {\n",
       "        text-align: right;\n",
       "    }\n",
       "</style>\n",
       "<table border=\"1\" class=\"dataframe\">\n",
       "  <thead>\n",
       "    <tr style=\"text-align: right;\">\n",
       "      <th></th>\n",
       "      <th>0</th>\n",
       "      <th>1</th>\n",
       "      <th>2</th>\n",
       "      <th>3</th>\n",
       "      <th>4</th>\n",
       "      <th>5</th>\n",
       "      <th>location</th>\n",
       "      <th>area</th>\n",
       "    </tr>\n",
       "  </thead>\n",
       "  <tbody>\n",
       "    <tr>\n",
       "      <th>1</th>\n",
       "      <td>Administrator</td>\n",
       "      <td>https://www.seek.co.nz/job/50582301?type=promo...</td>\n",
       "      <td>NaN</td>\n",
       "      <td>location: Bay of PlentyBay of Plentyarea: Taur...</td>\n",
       "      <td>Featured,at,Private Advertiser</td>\n",
       "      <td>classification: Administration &amp; Office Suppor...</td>\n",
       "      <td>location: Bay of PlentyBay of Plenty</td>\n",
       "      <td>TaurangaTauranga</td>\n",
       "    </tr>\n",
       "    <tr>\n",
       "      <th>2</th>\n",
       "      <td>Receptionist</td>\n",
       "      <td>https://www.seek.co.nz/job/50620889?type=promo...</td>\n",
       "      <td>Avenues Orthodontics</td>\n",
       "      <td>location: Bay of PlentyBay of Plentyarea: Taur...</td>\n",
       "      <td>Featured,at</td>\n",
       "      <td>classification: Administration &amp; Office Suppor...</td>\n",
       "      <td>location: Bay of PlentyBay of Plenty</td>\n",
       "      <td>TaurangaTauranga</td>\n",
       "    </tr>\n",
       "    <tr>\n",
       "      <th>3</th>\n",
       "      <td>Prosecutions Support Officer</td>\n",
       "      <td>https://www.seek.co.nz/job/50622169?type=stand...</td>\n",
       "      <td>New Zealand Police</td>\n",
       "      <td>location: AucklandAuckland</td>\n",
       "      <td>4d ago,at</td>\n",
       "      <td>classification: Administration &amp; Office Suppor...</td>\n",
       "      <td>location: AucklandAuckland</td>\n",
       "      <td>None</td>\n",
       "    </tr>\n",
       "    <tr>\n",
       "      <th>4</th>\n",
       "      <td>Early Childhood Centre Administrator</td>\n",
       "      <td>https://www.seek.co.nz/job/50639620?type=stand...</td>\n",
       "      <td>Kew Pacific Island Early Learning Centre</td>\n",
       "      <td>location: SouthlandSouthlandarea: Invercargill...</td>\n",
       "      <td>1h ago,at</td>\n",
       "      <td>classification: Administration &amp; Office Suppor...</td>\n",
       "      <td>location: SouthlandSouthland</td>\n",
       "      <td>InvercargillInvercargill</td>\n",
       "    </tr>\n",
       "    <tr>\n",
       "      <th>5</th>\n",
       "      <td>Business Support Administrator</td>\n",
       "      <td>https://www.seek.co.nz/job/50622432?type=stand...</td>\n",
       "      <td>NaN</td>\n",
       "      <td>location: CanterburyCanterburyarea: Christchur...</td>\n",
       "      <td>4d ago,at,Private Advertiser</td>\n",
       "      <td>classification: Administration &amp; Office Suppor...</td>\n",
       "      <td>location: CanterburyCanterbury</td>\n",
       "      <td>ChristchurchChristchurch</td>\n",
       "    </tr>\n",
       "  </tbody>\n",
       "</table>\n",
       "</div>"
      ],
      "text/plain": [
       "                                      0  \\\n",
       "1                         Administrator   \n",
       "2                          Receptionist   \n",
       "3          Prosecutions Support Officer   \n",
       "4  Early Childhood Centre Administrator   \n",
       "5        Business Support Administrator   \n",
       "\n",
       "                                                   1  \\\n",
       "1  https://www.seek.co.nz/job/50582301?type=promo...   \n",
       "2  https://www.seek.co.nz/job/50620889?type=promo...   \n",
       "3  https://www.seek.co.nz/job/50622169?type=stand...   \n",
       "4  https://www.seek.co.nz/job/50639620?type=stand...   \n",
       "5  https://www.seek.co.nz/job/50622432?type=stand...   \n",
       "\n",
       "                                          2  \\\n",
       "1                                       NaN   \n",
       "2                      Avenues Orthodontics   \n",
       "3                        New Zealand Police   \n",
       "4  Kew Pacific Island Early Learning Centre   \n",
       "5                                       NaN   \n",
       "\n",
       "                                                   3  \\\n",
       "1  location: Bay of PlentyBay of Plentyarea: Taur...   \n",
       "2  location: Bay of PlentyBay of Plentyarea: Taur...   \n",
       "3                         location: AucklandAuckland   \n",
       "4  location: SouthlandSouthlandarea: Invercargill...   \n",
       "5  location: CanterburyCanterburyarea: Christchur...   \n",
       "\n",
       "                                4  \\\n",
       "1  Featured,at,Private Advertiser   \n",
       "2                     Featured,at   \n",
       "3                       4d ago,at   \n",
       "4                       1h ago,at   \n",
       "5    4d ago,at,Private Advertiser   \n",
       "\n",
       "                                                   5  \\\n",
       "1  classification: Administration & Office Suppor...   \n",
       "2  classification: Administration & Office Suppor...   \n",
       "3  classification: Administration & Office Suppor...   \n",
       "4  classification: Administration & Office Suppor...   \n",
       "5  classification: Administration & Office Suppor...   \n",
       "\n",
       "                               location                       area  \n",
       "1  location: Bay of PlentyBay of Plenty           TaurangaTauranga  \n",
       "2  location: Bay of PlentyBay of Plenty           TaurangaTauranga  \n",
       "3            location: AucklandAuckland                       None  \n",
       "4          location: SouthlandSouthland   InvercargillInvercargill  \n",
       "5        location: CanterburyCanterbury   ChristchurchChristchurch  "
      ]
     },
     "execution_count": 41,
     "metadata": {},
     "output_type": "execute_result"
    }
   ],
   "source": [
    "## split location and area and store them in new columns \n",
    "nzAdmin[['location', 'area']] = nzAdmin[3].str.split('area:', n=1, expand=True)\n",
    "nzAdmin.head()"
   ]
  },
  {
   "cell_type": "code",
   "execution_count": 42,
   "id": "adb4720c",
   "metadata": {
    "scrolled": true
   },
   "outputs": [
    {
     "data": {
      "text/plain": [
       "0"
      ]
     },
     "execution_count": 42,
     "metadata": {},
     "output_type": "execute_result"
    }
   ],
   "source": [
    "nzAdmin['location'].isna().sum()"
   ]
  },
  {
   "cell_type": "code",
   "execution_count": 43,
   "id": "6feee893",
   "metadata": {},
   "outputs": [
    {
     "data": {
      "text/plain": [
       "541"
      ]
     },
     "execution_count": 43,
     "metadata": {},
     "output_type": "execute_result"
    }
   ],
   "source": [
    "nzAdmin['area'].isna().sum()"
   ]
  },
  {
   "cell_type": "code",
   "execution_count": 44,
   "id": "30773c5e",
   "metadata": {
    "scrolled": true
   },
   "outputs": [
    {
     "data": {
      "text/plain": [
       "1        Bay of PlentyBay of Plenty\n",
       "2        Bay of PlentyBay of Plenty\n",
       "3                  AucklandAuckland\n",
       "4                SouthlandSouthland\n",
       "5              CanterburyCanterbury\n",
       "                   ...             \n",
       "2704               AucklandAuckland\n",
       "2705           WellingtonWellington\n",
       "2706                 WaikatoWaikato\n",
       "2707                 WaikatoWaikato\n",
       "2708           WellingtonWellington\n",
       "Name: location, Length: 2708, dtype: object"
      ]
     },
     "execution_count": 44,
     "metadata": {},
     "output_type": "execute_result"
    }
   ],
   "source": [
    "## use lambda function to filter out extra words\n",
    "nzAdmin['location'] = nzAdmin['location'].apply(lambda x:x[9:])\n",
    "nzAdmin['location']"
   ]
  },
  {
   "cell_type": "code",
   "execution_count": 48,
   "id": "466c36a4",
   "metadata": {},
   "outputs": [],
   "source": [
    "##handle duplication issue \n",
    "def handle_duplication(x):\n",
    "    trim = x.strip()\n",
    "    index = (trim+trim).find(trim,1)\n",
    "    if index != -1:\n",
    "        return trim[:index]\n",
    "    else:\n",
    "        return trim"
   ]
  },
  {
   "cell_type": "code",
   "execution_count": 49,
   "id": "9d2477bb",
   "metadata": {},
   "outputs": [],
   "source": [
    "nzAdmin['location'] = nzAdmin['location'].apply(handle_duplication)"
   ]
  },
  {
   "cell_type": "code",
   "execution_count": 50,
   "id": "b26bff0b",
   "metadata": {},
   "outputs": [
    {
     "data": {
      "text/plain": [
       "1       Bay of Plenty\n",
       "2       Bay of Plenty\n",
       "3            Auckland\n",
       "4           Southland\n",
       "5          Canterbury\n",
       "            ...      \n",
       "2704         Auckland\n",
       "2705       Wellington\n",
       "2706          Waikato\n",
       "2707          Waikato\n",
       "2708       Wellington\n",
       "Name: location, Length: 2708, dtype: object"
      ]
     },
     "execution_count": 50,
     "metadata": {},
     "output_type": "execute_result"
    }
   ],
   "source": [
    "nzAdmin['location']"
   ]
  },
  {
   "cell_type": "code",
   "execution_count": 64,
   "id": "9ed71328",
   "metadata": {},
   "outputs": [],
   "source": [
    "def fillingNa(x):\n",
    "    if x == None:\n",
    "        x = 'unknown'\n",
    "    else:\n",
    "        return x "
   ]
  },
  {
   "cell_type": "code",
   "execution_count": 65,
   "id": "d3206abe",
   "metadata": {},
   "outputs": [
    {
     "data": {
      "text/plain": [
       "1                            TaurangaTauranga\n",
       "2                            TaurangaTauranga\n",
       "3                                        None\n",
       "4                    InvercargillInvercargill\n",
       "5                    ChristchurchChristchurch\n",
       "                        ...                  \n",
       "2704         Auckland CentralAuckland Central\n",
       "2705     Wellington CentralWellington Central\n",
       "2706                         HamiltonHamilton\n",
       "2707                         HamiltonHamilton\n",
       "2708                                     None\n",
       "Name: area, Length: 2708, dtype: object"
      ]
     },
     "execution_count": 65,
     "metadata": {},
     "output_type": "execute_result"
    }
   ],
   "source": [
    "nzAdmin['area'] = nzAdmin['area'].apply(fillingNa)\n",
    "nzAdmin['area']"
   ]
  }
 ],
 "metadata": {
  "kernelspec": {
   "display_name": "Python 3 (ipykernel)",
   "language": "python",
   "name": "python3"
  },
  "language_info": {
   "codemirror_mode": {
    "name": "ipython",
    "version": 3
   },
   "file_extension": ".py",
   "mimetype": "text/x-python",
   "name": "python",
   "nbconvert_exporter": "python",
   "pygments_lexer": "ipython3",
   "version": "3.9.12"
  }
 },
 "nbformat": 4,
 "nbformat_minor": 5
}
